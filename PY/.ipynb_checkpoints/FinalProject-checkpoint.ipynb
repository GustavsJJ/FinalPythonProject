{
 "cells": [
  {
   "cell_type": "code",
   "execution_count": null,
   "metadata": {},
   "outputs": [],
   "source": [
    "import json\n",
    "\n",
    "followerList = []\n",
    "followingList = []\n",
    "postLikes = []\n",
    "\n",
    "\n",
    "js = open(\"C:\\\\Users\\\\gusta\\\\Desktop\\\\PY\\\\followerList.txt\") # get follower list\n",
    "followerList = json.loads(js.read())\n",
    "js.close()\n",
    "\n",
    "\n",
    "js = open(\"C:\\\\Users\\\\gusta\\\\Desktop\\\\PY\\\\followingList.txt\") # get following list\n",
    "followingList = json.loads(js.read())\n",
    "js.close()\n",
    "    \n",
    "    \n",
    "js = open(\"C:\\\\Users\\\\gusta\\\\Desktop\\\\PY\\\\postLikes.txt\") # get post like list\n",
    "f = js.read()\n",
    "if f!=\"[]\":\n",
    "    postLikes = json.loads(f)\n",
    "js.close()\n",
    "    \n",
    "    \n",
    "UAreNotFollowedBy = [] # kuriem es sekoju, bet man neseko atpakaļ\n",
    "for following in followingList:\n",
    "    if following not in followerList:\n",
    "        UAreNotFollowedBy.append(following)\n",
    "\n",
    "UAreNotFollowing = [] # kuri seko man, bet es nesekoju atpakaļ\n",
    "for follower in followerList:\n",
    "    if follower not in followingList:\n",
    "        UAreNotFollowing.append(follower)\n",
    "        \n",
    "if postLikes != []:\n",
    "    followersNotLike = [] # sekotāji, kuri \"neielaikoja\" postu\n",
    "    notFollowerLike = [] # cilvēki, kuri \"ielaikoja\" postu, bet neseko\n",
    "    \n",
    "    for follower in followerList:\n",
    "        if follower not in postLikes:\n",
    "            followersNotLike.append(follower)\n",
    "            \n",
    "    for like in postLikes:\n",
    "        if like not in followerList:\n",
    "            notFollowerLike.append(like)"
   ]
  },
  {
   "cell_type": "code",
   "execution_count": null,
   "metadata": {},
   "outputs": [],
   "source": [
    "import pandas\n",
    "from IPython.display import HTML\n",
    "\n",
    "print(\"\\nKonti, kuriem sekoju es, bet man neseko atpakaļ:\\n\")\n",
    "pandas.set_option('display.max_rows', 200)\n",
    "ds = pandas.DataFrame(UAreNotFollowedBy, columns=[\"Username\", \"Information\", \"Link\"])\n",
    "ds['Link'] = ds['Link'].apply(lambda x: f'<a href=\"{x}\" target=\"_blank\">{x}</a>')\n",
    "HTML(ds.to_html(escape=False))"
   ]
  },
  {
   "cell_type": "code",
   "execution_count": null,
   "metadata": {
    "scrolled": false
   },
   "outputs": [],
   "source": [
    "print(\"\\nKonti, kuri seko man, bet es nesekoju atpakaļ:\\n\")\n",
    "pandas.set_option('display.max_rows', 200)\n",
    "ds = pandas.DataFrame(UAreNotFollowing, columns=[\"Username\", \"Information\", \"Link\"])\n",
    "ds['Link'] = ds['Link'].apply(lambda x: f'<a href=\"{x}\" target=\"_blank\">{x}</a>')\n",
    "HTML(ds.to_html(escape=False))"
   ]
  },
  {
   "cell_type": "code",
   "execution_count": null,
   "metadata": {},
   "outputs": [],
   "source": [
    "print(\"\\nSekotāji, kuri 'neielaikoja' postu:\\n\")\n",
    "pandas.set_option('display.max_rows', 200)\n",
    "ds = pandas.DataFrame(followersNotLike, columns=[\"Username\", \"Information\", \"Link\"])\n",
    "ds['Link'] = ds['Link'].apply(lambda x: f'<a href=\"{x}\" target=\"_blank\">{x}</a>')\n",
    "HTML(ds.to_html(escape=False))"
   ]
  },
  {
   "cell_type": "code",
   "execution_count": null,
   "metadata": {},
   "outputs": [],
   "source": [
    "print(\"\\nKonti, kuri 'ielaikoja' postu, bet neseko:\\n\")\n",
    "pandas.set_option('display.max_rows', 200)\n",
    "ds = pandas.DataFrame(notFollowerLike, columns=[\"Username\", \"Information\", \"Link\"])\n",
    "ds['Link'] = ds['Link'].apply(lambda x: f'<a href=\"{x}\" target=\"_blank\">{x}</a>')\n",
    "HTML(ds.to_html(escape=False))"
   ]
  },
  {
   "cell_type": "code",
   "execution_count": null,
   "metadata": {},
   "outputs": [],
   "source": []
  }
 ],
 "metadata": {
  "kernelspec": {
   "display_name": "Python 3.7.4 64-bit",
   "language": "python",
   "name": "python37464bitbdc0d15b4b03463cad61d66b522c3847"
  },
  "language_info": {
   "codemirror_mode": {
    "name": "ipython",
    "version": 3
   },
   "file_extension": ".py",
   "mimetype": "text/x-python",
   "name": "python",
   "nbconvert_exporter": "python",
   "pygments_lexer": "ipython3",
   "version": "3.7.4"
  }
 },
 "nbformat": 4,
 "nbformat_minor": 2
}
